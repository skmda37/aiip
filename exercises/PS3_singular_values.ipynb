{
 "cells": [
  {
   "cell_type": "markdown",
   "metadata": {},
   "source": [
    "# Exercise 2: Numerical Investigation of Hilbert-Schmidt Integral Operators\n",
    "\n",
    "**AI and Inverse Problems** | **SS 25** \n",
    "\n",
    "In this notebook, we explore the properties of Hilbert-Schmidt integral operators through numerical analysis and the best rank-k approximation using SVD applied to image compression.\n",
    "\n",
    "## Mathematical Background\n",
    "\n",
    "A Hilbert-Schmidt integral operator $T: L^2(\\Omega) \\to L^2(\\Omega')$ is defined as:\n",
    "\n",
    "$$[Tx](t) = \\int_\\Omega k(s,t)x(s)\\, \\mathrm{d}s \\quad \\text{for almost every } t \\in \\Omega'$$\n",
    "\n",
    "where $k \\in L^2(\\Omega \\times \\Omega')$ is the kernel. These operators are compact, which means they can be well-approximated by finite-rank operators."
   ]
  },
  {
   "cell_type": "code",
   "execution_count": null,
   "metadata": {},
   "outputs": [],
   "source": [
    "# Import necessary libraries\n",
    "import numpy as np\n",
    "import matplotlib.pyplot as plt\n",
    "from scipy import linalg\n",
    "from PIL import Image\n",
    "import requests\n",
    "from io import BytesIO\n",
    "import os\n",
    "\n",
    "# Set plotting parameters for better readability\n",
    "plt.rcParams.update({'font.size': 12})\n",
    "plt.rcParams['figure.figsize'] = [12, 8]"
   ]
  },
  {
   "cell_type": "markdown",
   "metadata": {},
   "source": [
    "## Exercise 1: Analyzing the decay of singular values of discretized integral operators.\n",
    "\n",
    "\n",
    "\n",
    "You will:\n",
    "\n",
    "1. **Discretize** the interval $[0, 1]$ to approximate the integral operator with a matrix.\n",
    "2. **Construct kernel matrices** for the following kernel functions:\n",
    "   - **Kernel A**: $ k_A(s, t) = e^{-|s - t|} $\n",
    "   - **Kernel B**: $ k_B(s, t) = \\min(s, t) $\n",
    "   - **Kernel C**: $ k_C(s, t) = s \\cdot t $\n",
    "3. **Visualize** each kernel as a matrix heatmap.\n",
    "4. **Compute and plot** the singular values to analyze their decay.\n",
    "\n",
    "\n",
    "Discussion:\n",
    "- which kernel shows the fastest decay in singular values?\n",
    "- how does the decay of the kernels relate to the compactness of the integral operator?\n",
    "\n",
    "### Connection to Inverse Problems\n",
    "\n",
    "In inverse problems, we often need to recover an unknown function from measurements related to it by a Hilbert-Schmidt integral operator. The ill-posedness of such problems arises from the small singular values, which amplify noise in the inversion process. Understanding the spectral properties of these operators is therefore crucial for developing effective regularization strategies.\n"
   ]
  },
  {
   "cell_type": "markdown",
   "metadata": {},
   "source": [
    "### Matrix representation of kernels\n",
    "We start by discretizing the interval [0,1] and constructing matrix representations of different kernels."
   ]
  },
  {
   "cell_type": "code",
   "execution_count": null,
   "metadata": {},
   "outputs": [],
   "source": [
    "# ------------------------\n",
    "# 1. Discretize the interval\n",
    "# ------------------------\n",
    "n = 100\n",
    "points = np.linspace(0, 1, n)\n",
    "\n",
    "# ------------------------\n",
    "# 2. Define kernel functions\n",
    "# ------------------------\n",
    "# TODO: Define three different kernel functions:\n",
    "# Example: def kernel_A(s, t): return np.exp(-np.abs(s - t))\n",
    "def kernel_A(s, t):\n",
    "    pass  # TODO: implement\n",
    "\n",
    "def kernel_B(s, t):\n",
    "    pass  # TODO: implement\n",
    "\n",
    "def kernel_C(s, t):\n",
    "    pass  # TODO: implement\n",
    "\n",
    "# ------------------------\n",
    "# 3. Create matrix from kernel function\n",
    "# ------------------------\n",
    "def create_kernel_matrix(kernel_func):\n",
    "    \"\"\"Construct a matrix representation of the kernel by discretizing the integral operator.\"\"\"\n",
    "    K = np.zeros((n, n))\n",
    "    for i in range(n):\n",
    "        for j in range(n):\n",
    "            K[i, j] = kernel_func(points[i], points[j])\n",
    "    return K / n  # Scale to approximate integral\n",
    "\n",
    "# TODO: Create the matrices for each kernel\n",
    "K_A = None  # TODO\n",
    "K_B = None  # TODO\n",
    "K_C = None  # TODO\n"
   ]
  },
  {
   "cell_type": "markdown",
   "metadata": {},
   "source": [
    "### Visualizing the Kernels\n",
    "\n",
    "Let's visualize the matrix representation of each kernel to understand their structure."
   ]
  },
  {
   "cell_type": "code",
   "execution_count": null,
   "metadata": {},
   "outputs": [],
   "source": [
    "# ------------------------\n",
    "# 4. Visualize the kernel matrices\n",
    "# ------------------------\n",
    "# TODO: Use imshow to visualize K_A, K_B, K_C using matplotlib\n",
    "# Hint: use plt.imshow(..., cmap='viridis', extent=[0, 1, 0, 1])\n",
    "\n",
    "# ------------------------\n",
    "# 5. Compute and plot singular values\n",
    "# ------------------------\n",
    "# TODO: Compute singular values using SVD\n",
    "# Example: U, s, VT = linalg.svd(K_A, full_matrices=False)\n",
    "\n",
    "# TODO: Plot the singular values on a log scale\n",
    "# Hint: use plt.semilogy(...)\n"
   ]
  },
  {
   "cell_type": "markdown",
   "metadata": {},
   "source": [
    "### Computing and Analyzing Singular Values\n",
    "\n",
    "Now we compute the singular value decomposition (SVD) of each kernel matrix to analyze their spectral properties."
   ]
  },
  {
   "cell_type": "code",
   "execution_count": null,
   "metadata": {},
   "outputs": [],
   "source": [
    "# ------------------------\n",
    "# 5. Compute singular values\n",
    "# ------------------------\n",
    "\n",
    "# TODO: Compute the singular values of the three kernel matrices\n",
    "# Hint: use linalg.svd(..., full_matrices=False)\n",
    "\n",
    "U_A, s_A, VT_A = None  # TODO\n",
    "U_B, s_B, VT_B = None  # TODO\n",
    "U_C, s_C, VT_C = None  # TODO\n",
    "\n",
    "# ------------------------\n",
    "# 6. Plot the decay of singular values\n",
    "# ------------------------\n",
    "\n",
    "# TODO: Create a semilog plot of the singular values for each kernel\n",
    "plt.figure(figsize=(10, 6))\n",
    "\n",
    "# Hint: use plt.semilogy(...) to plot each set of singular values\n",
    "\n",
    "# TODO: plot singular values for K_A\n",
    "# TODO: plot singular values for K_B\n",
    "# TODO: plot singular values for K_C\n",
    "\n",
    "plt.grid(True, which=\"both\", linestyle=\"-\", alpha=0.2)\n",
    "plt.xlabel('Index $i$')\n",
    "plt.ylabel('Singular value $\\sigma_i$ (log scale)')\n",
    "plt.title('Decay of Singular Values for Different Kernels')\n",
    "plt.legend()\n",
    "plt.tight_layout()\n",
    "plt.show()"
   ]
  },
  {
   "cell_type": "markdown",
   "metadata": {},
   "source": [
    "## Exercise 2: SVD and best rank-$k$ approximation \n",
    "\n",
    "### **1. Mathematical Background**\n",
    "\n",
    "Let $A\\in \\mathbb{R}^{m \\times n}$ be a matrix. Its **Singular Value Decomposition** (SVD) is $A = U \\Sigma V^T$ where\n",
    "\n",
    "- $ U \\in \\mathbb{R}^{m \\times m} $ and $ V \\in \\mathbb{R}^{n \\times n} $ are orthogonal matrices,\n",
    "- $ \\Sigma \\in \\mathbb{R}^{m \\times n} $ is diagonal with non-negative entries $ \\sigma_1 \\geq \\sigma_2 \\geq \\dots \\geq \\sigma_r \\geq 0 $, the **singular values** of $ A $.\n",
    "\n",
    "The **best rank-**$ k $ **approximation** of $ A $ is given by truncating the SVD: $A_k = U_k \\Sigma_k V_k^T$\n",
    "\n",
    "This approximation minimizes the reconstruction error among all matrices of rank $ \\leq k $.\n",
    "\n",
    "---\n",
    "\n",
    "### **2. Task Overview**\n",
    "We will apply the best rank-k approximation to image compression.\n",
    "\n",
    "You will:\n",
    "\n",
    "1. **Load and convert** an image to a grayscale matrix.\n",
    "2. **Compute the SVD** of the image matrix.\n",
    "3. **Visualize** the singular values to understand their decay.\n",
    "4. **Reconstruct the image** using different numbers of singular values $ k $.\n",
    "5. **Evaluate and compare** the reconstruction error and compression ratio.\n"
   ]
  },
  {
   "cell_type": "markdown",
   "metadata": {},
   "source": [
    "### Load the image"
   ]
  },
  {
   "cell_type": "code",
   "execution_count": null,
   "metadata": {},
   "outputs": [],
   "source": [
    "\n",
    "# ------------------------\n",
    "# 1. Load and preprocess image\n",
    "# ------------------------\n",
    "\n",
    "def get_sample_image():\n",
    "    \"\"\"Download and convert an image to grayscale.\"\"\"\n",
    "    url = \"https://upload.wikimedia.org/wikipedia/commons/d/d3/Albert_Einstein_Head.jpg\"\n",
    "    response = requests.get(url)\n",
    "    img = Image.open(BytesIO(response.content)).convert('L')  # Grayscale\n",
    "    return img\n",
    "\n",
    "# TODO: Load the image and convert to a NumPy array\n",
    "img = get_sample_image()\n",
    "A = None  # TODO: convert image to float array\n",
    "\n",
    "# TODO: Display the original image using plt.imshow()\n",
    "plt.figure(figsize=(8, 5))\n",
    "# plt.imshow(...)\n",
    "plt.title('Original Image')\n",
    "plt.axis('off')\n",
    "\n",
    "# Print shape of image matrix\n",
    "print(f'image matrix dimension: {img.size[1]} x {img.size[0]}')\n"
   ]
  },
  {
   "cell_type": "markdown",
   "metadata": {},
   "source": [
    "### Computing SVD of the Image"
   ]
  },
  {
   "cell_type": "code",
   "execution_count": null,
   "metadata": {},
   "outputs": [],
   "source": [
    "U, s, VT = None, None, None # TODO: Compute SVD\n",
    "\n",
    "# Plot singular values\n",
    "plt.figure(figsize=(10, 6))\n",
    "plt.semilogy(range(1, len(s) + 1), s, 'o-')\n",
    "plt.grid(True, which=\"both\", ls=\"-\", alpha=0.2)\n",
    "plt.xlabel('Index i')\n",
    "plt.ylabel('Singular value $σ_i$ (log scale)')\n",
    "plt.title('Singular Values of the Image')"
   ]
  },
  {
   "cell_type": "markdown",
   "metadata": {},
   "source": [
    "### Image Reconstruction with Different Ranks\n",
    "\n",
    "Now we'll reconstruct the image using different numbers of singular values and analyze the results."
   ]
  },
  {
   "cell_type": "code",
   "execution_count": null,
   "metadata": {},
   "outputs": [],
   "source": [
    "\n",
    "# ------------------------\n",
    "# 4. Low-rank image approximation\n",
    "# ------------------------\n",
    "\n",
    "# TODO: Choose a list of k values for approximation\n",
    "k_values = [1, 5, 10, 20, 50]\n",
    "\n",
    "fig, axes = plt.subplots(2, 3, figsize=(18, 10))\n",
    "axes = axes.flatten()\n",
    "\n",
    "# Show original image\n",
    "axes[0].imshow(A, cmap='gray')\n",
    "axes[0].set_title('Original Image')\n",
    "axes[0].axis('off')\n",
    "\n",
    "errors = []\n",
    "compression_ratios = []\n",
    "\n",
    "for i, k in enumerate(k_values):\n",
    "    # TODO: Create rank-k approximation of A\n",
    "    A_k = None  # TODO: reconstruct image using top-k singular values\n",
    "    \n",
    "    # TODO: Compute relative Frobenius error\n",
    "    error = None\n",
    "    errors.append(error)\n",
    "    \n",
    "    # TODO: Compute compression ratio\n",
    "    original_size = A.shape[0] * A.shape[1]\n",
    "    compressed_size = k * (A.shape[0] + A.shape[1] + 1)\n",
    "    compression_ratio = original_size / compressed_size\n",
    "    compression_ratios.append(compression_ratio)\n",
    "    \n",
    "    # Display rank-k image\n",
    "    axes[i+1].imshow(A_k, cmap='gray')\n",
    "    axes[i+1].set_title(f'k = {k}, Error = {error:.4f}, CR = {compression_ratio:.2f}:1')\n",
    "    axes[i+1].axis('off')\n",
    "\n",
    "plt.tight_layout()\n"
   ]
  },
  {
   "cell_type": "markdown",
   "metadata": {},
   "source": [
    "### Analyzing Compression Performance"
   ]
  },
  {
   "cell_type": "code",
   "execution_count": null,
   "metadata": {},
   "outputs": [],
   "source": [
    "# Plot reconstruction error vs k\n",
    "plt.figure(figsize=(10, 6))\n",
    "plt.plot(k_values, errors, 'o-')\n",
    "plt.grid(True, alpha=0.3)\n",
    "plt.xlabel('Number of singular values (k)')\n",
    "plt.ylabel('Relative reconstruction error')\n",
    "plt.title('Reconstruction Error vs. Number of Singular Values')"
   ]
  }
 ],
 "metadata": {
  "kernelspec": {
   "display_name": "Python 3 (ipykernel)",
   "language": "python",
   "name": "python3"
  },
  "language_info": {
   "codemirror_mode": {
    "name": "ipython",
    "version": 3
   },
   "file_extension": ".py",
   "mimetype": "text/x-python",
   "name": "python",
   "nbconvert_exporter": "python",
   "pygments_lexer": "ipython3",
   "version": "3.10.16"
  }
 },
 "nbformat": 4,
 "nbformat_minor": 4
}
